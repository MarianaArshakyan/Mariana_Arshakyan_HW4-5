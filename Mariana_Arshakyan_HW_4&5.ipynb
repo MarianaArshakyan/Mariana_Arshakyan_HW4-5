{
 "cells": [
  {
   "cell_type": "code",
   "execution_count": 3,
   "metadata": {},
   "outputs": [],
   "source": [
    "import numpy as np \n",
    "import pandas as pd \n",
    "import quandl \n",
    "import matplotlib.pyplot as plt \n",
    "import seaborn as sns"
   ]
  },
  {
   "cell_type": "markdown",
   "metadata": {},
   "source": [
    "**Problem 1 - Superify 1**"
   ]
  },
  {
   "cell_type": "code",
   "execution_count": 4,
   "metadata": {},
   "outputs": [],
   "source": [
    "list = [\"men\",\"women\",\"cool\",\"star\",\"model\"]"
   ]
  },
  {
   "cell_type": "code",
   "execution_count": 5,
   "metadata": {},
   "outputs": [
    {
     "name": "stdout",
     "output_type": "stream",
     "text": [
      "supermen\n",
      "super women\n",
      "supercool\n",
      "superstar\n",
      "super model\n"
     ]
    }
   ],
   "source": [
    "for i in list:\n",
    "    if len(i)>4:\n",
    "        print(\"super \" + i)\n",
    "    else:\n",
    "        print(\"super\"+ i)"
   ]
  },
  {
   "cell_type": "markdown",
   "metadata": {},
   "source": [
    "**Problem 2 - Stockplotter 1**"
   ]
  },
  {
   "cell_type": "code",
   "execution_count": 6,
   "metadata": {},
   "outputs": [],
   "source": [
    "stocks = [\"AAPL\",\"GOOGL\",\"IBM\",\"MSFT\",\"FB\"]"
   ]
  },
  {
   "cell_type": "code",
   "execution_count": 7,
   "metadata": {},
   "outputs": [],
   "source": [
    "data = quandl.get([\"WIKI/AAPL\",\"WIKI/GOOGL\",\"WIKI/IBM\",\"WIKI/MSFT\",\"WIKI/FB\"],auth_token=\"EkcjDx5vgm8NreizBPC8\")"
   ]
  },
  {
   "cell_type": "code",
   "execution_count": 8,
   "metadata": {},
   "outputs": [
    {
     "name": "stdout",
     "output_type": "stream",
     "text": [
      "<class 'pandas.core.frame.DataFrame'>\n",
      "DatetimeIndex: 14156 entries, 1962-01-02 to 2018-03-27\n",
      "Data columns (total 60 columns):\n",
      "WIKI/AAPL - Open            9400 non-null float64\n",
      "WIKI/AAPL - High            9400 non-null float64\n",
      "WIKI/AAPL - Low             9400 non-null float64\n",
      "WIKI/AAPL - Close           9400 non-null float64\n",
      "WIKI/AAPL - Volume          9400 non-null float64\n",
      "WIKI/AAPL - Ex-Dividend     9400 non-null float64\n",
      "WIKI/AAPL - Split Ratio     9400 non-null float64\n",
      "WIKI/AAPL - Adj. Open       9400 non-null float64\n",
      "WIKI/AAPL - Adj. High       9400 non-null float64\n",
      "WIKI/AAPL - Adj. Low        9400 non-null float64\n",
      "WIKI/AAPL - Adj. Close      9400 non-null float64\n",
      "WIKI/AAPL - Adj. Volume     9400 non-null float64\n",
      "WIKI/GOOGL - Open           3424 non-null float64\n",
      "WIKI/GOOGL - High           3424 non-null float64\n",
      "WIKI/GOOGL - Low            3424 non-null float64\n",
      "WIKI/GOOGL - Close          3424 non-null float64\n",
      "WIKI/GOOGL - Volume         3424 non-null float64\n",
      "WIKI/GOOGL - Ex-Dividend    3424 non-null float64\n",
      "WIKI/GOOGL - Split Ratio    3424 non-null float64\n",
      "WIKI/GOOGL - Adj. Open      3424 non-null float64\n",
      "WIKI/GOOGL - Adj. High      3424 non-null float64\n",
      "WIKI/GOOGL - Adj. Low       3424 non-null float64\n",
      "WIKI/GOOGL - Adj. Close     3424 non-null float64\n",
      "WIKI/GOOGL - Adj. Volume    3424 non-null float64\n",
      "WIKI/IBM - Open             14155 non-null float64\n",
      "WIKI/IBM - High             14155 non-null float64\n",
      "WIKI/IBM - Low              14155 non-null float64\n",
      "WIKI/IBM - Close            14155 non-null float64\n",
      "WIKI/IBM - Volume           14155 non-null float64\n",
      "WIKI/IBM - Ex-Dividend      14155 non-null float64\n",
      "WIKI/IBM - Split Ratio      14155 non-null float64\n",
      "WIKI/IBM - Adj. Open        14155 non-null float64\n",
      "WIKI/IBM - Adj. High        14155 non-null float64\n",
      "WIKI/IBM - Adj. Low         14155 non-null float64\n",
      "WIKI/IBM - Adj. Close       14155 non-null float64\n",
      "WIKI/IBM - Adj. Volume      14155 non-null float64\n",
      "WIKI/MSFT - Open            8076 non-null float64\n",
      "WIKI/MSFT - High            8076 non-null float64\n",
      "WIKI/MSFT - Low             8076 non-null float64\n",
      "WIKI/MSFT - Close           8076 non-null float64\n",
      "WIKI/MSFT - Volume          8076 non-null float64\n",
      "WIKI/MSFT - Ex-Dividend     8076 non-null float64\n",
      "WIKI/MSFT - Split Ratio     8076 non-null float64\n",
      "WIKI/MSFT - Adj. Open       8076 non-null float64\n",
      "WIKI/MSFT - Adj. High       8076 non-null float64\n",
      "WIKI/MSFT - Adj. Low        8076 non-null float64\n",
      "WIKI/MSFT - Adj. Close      8076 non-null float64\n",
      "WIKI/MSFT - Adj. Volume     8076 non-null float64\n",
      "WIKI/FB - Open              1472 non-null float64\n",
      "WIKI/FB - High              1472 non-null float64\n",
      "WIKI/FB - Low               1472 non-null float64\n",
      "WIKI/FB - Close             1472 non-null float64\n",
      "WIKI/FB - Volume            1472 non-null float64\n",
      "WIKI/FB - Ex-Dividend       1472 non-null float64\n",
      "WIKI/FB - Split Ratio       1472 non-null float64\n",
      "WIKI/FB - Adj. Open         1472 non-null float64\n",
      "WIKI/FB - Adj. High         1472 non-null float64\n",
      "WIKI/FB - Adj. Low          1472 non-null float64\n",
      "WIKI/FB - Adj. Close        1472 non-null float64\n",
      "WIKI/FB - Adj. Volume       1472 non-null float64\n",
      "dtypes: float64(60)\n",
      "memory usage: 6.6 MB\n"
     ]
    }
   ],
   "source": [
    "data.info()"
   ]
  },
  {
   "cell_type": "code",
   "execution_count": 9,
   "metadata": {},
   "outputs": [],
   "source": [
    "data_clean = data.dropna()"
   ]
  },
  {
   "cell_type": "code",
   "execution_count": 10,
   "metadata": {},
   "outputs": [
    {
     "name": "stdout",
     "output_type": "stream",
     "text": [
      "<class 'pandas.core.frame.DataFrame'>\n",
      "DatetimeIndex: 1471 entries, 2012-05-18 to 2018-03-27\n",
      "Data columns (total 60 columns):\n",
      "WIKI/AAPL - Open            1471 non-null float64\n",
      "WIKI/AAPL - High            1471 non-null float64\n",
      "WIKI/AAPL - Low             1471 non-null float64\n",
      "WIKI/AAPL - Close           1471 non-null float64\n",
      "WIKI/AAPL - Volume          1471 non-null float64\n",
      "WIKI/AAPL - Ex-Dividend     1471 non-null float64\n",
      "WIKI/AAPL - Split Ratio     1471 non-null float64\n",
      "WIKI/AAPL - Adj. Open       1471 non-null float64\n",
      "WIKI/AAPL - Adj. High       1471 non-null float64\n",
      "WIKI/AAPL - Adj. Low        1471 non-null float64\n",
      "WIKI/AAPL - Adj. Close      1471 non-null float64\n",
      "WIKI/AAPL - Adj. Volume     1471 non-null float64\n",
      "WIKI/GOOGL - Open           1471 non-null float64\n",
      "WIKI/GOOGL - High           1471 non-null float64\n",
      "WIKI/GOOGL - Low            1471 non-null float64\n",
      "WIKI/GOOGL - Close          1471 non-null float64\n",
      "WIKI/GOOGL - Volume         1471 non-null float64\n",
      "WIKI/GOOGL - Ex-Dividend    1471 non-null float64\n",
      "WIKI/GOOGL - Split Ratio    1471 non-null float64\n",
      "WIKI/GOOGL - Adj. Open      1471 non-null float64\n",
      "WIKI/GOOGL - Adj. High      1471 non-null float64\n",
      "WIKI/GOOGL - Adj. Low       1471 non-null float64\n",
      "WIKI/GOOGL - Adj. Close     1471 non-null float64\n",
      "WIKI/GOOGL - Adj. Volume    1471 non-null float64\n",
      "WIKI/IBM - Open             1471 non-null float64\n",
      "WIKI/IBM - High             1471 non-null float64\n",
      "WIKI/IBM - Low              1471 non-null float64\n",
      "WIKI/IBM - Close            1471 non-null float64\n",
      "WIKI/IBM - Volume           1471 non-null float64\n",
      "WIKI/IBM - Ex-Dividend      1471 non-null float64\n",
      "WIKI/IBM - Split Ratio      1471 non-null float64\n",
      "WIKI/IBM - Adj. Open        1471 non-null float64\n",
      "WIKI/IBM - Adj. High        1471 non-null float64\n",
      "WIKI/IBM - Adj. Low         1471 non-null float64\n",
      "WIKI/IBM - Adj. Close       1471 non-null float64\n",
      "WIKI/IBM - Adj. Volume      1471 non-null float64\n",
      "WIKI/MSFT - Open            1471 non-null float64\n",
      "WIKI/MSFT - High            1471 non-null float64\n",
      "WIKI/MSFT - Low             1471 non-null float64\n",
      "WIKI/MSFT - Close           1471 non-null float64\n",
      "WIKI/MSFT - Volume          1471 non-null float64\n",
      "WIKI/MSFT - Ex-Dividend     1471 non-null float64\n",
      "WIKI/MSFT - Split Ratio     1471 non-null float64\n",
      "WIKI/MSFT - Adj. Open       1471 non-null float64\n",
      "WIKI/MSFT - Adj. High       1471 non-null float64\n",
      "WIKI/MSFT - Adj. Low        1471 non-null float64\n",
      "WIKI/MSFT - Adj. Close      1471 non-null float64\n",
      "WIKI/MSFT - Adj. Volume     1471 non-null float64\n",
      "WIKI/FB - Open              1471 non-null float64\n",
      "WIKI/FB - High              1471 non-null float64\n",
      "WIKI/FB - Low               1471 non-null float64\n",
      "WIKI/FB - Close             1471 non-null float64\n",
      "WIKI/FB - Volume            1471 non-null float64\n",
      "WIKI/FB - Ex-Dividend       1471 non-null float64\n",
      "WIKI/FB - Split Ratio       1471 non-null float64\n",
      "WIKI/FB - Adj. Open         1471 non-null float64\n",
      "WIKI/FB - Adj. High         1471 non-null float64\n",
      "WIKI/FB - Adj. Low          1471 non-null float64\n",
      "WIKI/FB - Adj. Close        1471 non-null float64\n",
      "WIKI/FB - Adj. Volume       1471 non-null float64\n",
      "dtypes: float64(60)\n",
      "memory usage: 701.0 KB\n"
     ]
    }
   ],
   "source": [
    "data_clean.info()"
   ]
  },
  {
   "cell_type": "code",
   "execution_count": 11,
   "metadata": {},
   "outputs": [
    {
     "data": {
      "text/html": [
       "<div>\n",
       "<style scoped>\n",
       "    .dataframe tbody tr th:only-of-type {\n",
       "        vertical-align: middle;\n",
       "    }\n",
       "\n",
       "    .dataframe tbody tr th {\n",
       "        vertical-align: top;\n",
       "    }\n",
       "\n",
       "    .dataframe thead th {\n",
       "        text-align: right;\n",
       "    }\n",
       "</style>\n",
       "<table border=\"1\" class=\"dataframe\">\n",
       "  <thead>\n",
       "    <tr style=\"text-align: right;\">\n",
       "      <th></th>\n",
       "      <th>WIKI/AAPL - Open</th>\n",
       "      <th>WIKI/AAPL - High</th>\n",
       "      <th>WIKI/AAPL - Low</th>\n",
       "      <th>WIKI/AAPL - Close</th>\n",
       "      <th>WIKI/AAPL - Volume</th>\n",
       "      <th>WIKI/AAPL - Ex-Dividend</th>\n",
       "      <th>WIKI/AAPL - Split Ratio</th>\n",
       "      <th>WIKI/AAPL - Adj. Open</th>\n",
       "      <th>WIKI/AAPL - Adj. High</th>\n",
       "      <th>WIKI/AAPL - Adj. Low</th>\n",
       "      <th>...</th>\n",
       "      <th>WIKI/FB - Low</th>\n",
       "      <th>WIKI/FB - Close</th>\n",
       "      <th>WIKI/FB - Volume</th>\n",
       "      <th>WIKI/FB - Ex-Dividend</th>\n",
       "      <th>WIKI/FB - Split Ratio</th>\n",
       "      <th>WIKI/FB - Adj. Open</th>\n",
       "      <th>WIKI/FB - Adj. High</th>\n",
       "      <th>WIKI/FB - Adj. Low</th>\n",
       "      <th>WIKI/FB - Adj. Close</th>\n",
       "      <th>WIKI/FB - Adj. Volume</th>\n",
       "    </tr>\n",
       "    <tr>\n",
       "      <th>Date</th>\n",
       "      <th></th>\n",
       "      <th></th>\n",
       "      <th></th>\n",
       "      <th></th>\n",
       "      <th></th>\n",
       "      <th></th>\n",
       "      <th></th>\n",
       "      <th></th>\n",
       "      <th></th>\n",
       "      <th></th>\n",
       "      <th></th>\n",
       "      <th></th>\n",
       "      <th></th>\n",
       "      <th></th>\n",
       "      <th></th>\n",
       "      <th></th>\n",
       "      <th></th>\n",
       "      <th></th>\n",
       "      <th></th>\n",
       "      <th></th>\n",
       "      <th></th>\n",
       "    </tr>\n",
       "  </thead>\n",
       "  <tbody>\n",
       "    <tr>\n",
       "      <th>2012-05-18</th>\n",
       "      <td>533.96</td>\n",
       "      <td>543.41</td>\n",
       "      <td>522.18</td>\n",
       "      <td>530.38</td>\n",
       "      <td>26153300.0</td>\n",
       "      <td>0.0</td>\n",
       "      <td>1.0</td>\n",
       "      <td>68.621302</td>\n",
       "      <td>69.835759</td>\n",
       "      <td>67.107408</td>\n",
       "      <td>...</td>\n",
       "      <td>38.00</td>\n",
       "      <td>38.2318</td>\n",
       "      <td>573576400.0</td>\n",
       "      <td>0.0</td>\n",
       "      <td>1.0</td>\n",
       "      <td>42.05</td>\n",
       "      <td>45.00</td>\n",
       "      <td>38.00</td>\n",
       "      <td>38.2318</td>\n",
       "      <td>573576400.0</td>\n",
       "    </tr>\n",
       "    <tr>\n",
       "      <th>2012-05-21</th>\n",
       "      <td>534.50</td>\n",
       "      <td>561.54</td>\n",
       "      <td>534.05</td>\n",
       "      <td>561.28</td>\n",
       "      <td>22539500.0</td>\n",
       "      <td>0.0</td>\n",
       "      <td>1.0</td>\n",
       "      <td>68.690700</td>\n",
       "      <td>72.165717</td>\n",
       "      <td>68.632868</td>\n",
       "      <td>...</td>\n",
       "      <td>33.00</td>\n",
       "      <td>34.0300</td>\n",
       "      <td>168192700.0</td>\n",
       "      <td>0.0</td>\n",
       "      <td>1.0</td>\n",
       "      <td>36.53</td>\n",
       "      <td>36.66</td>\n",
       "      <td>33.00</td>\n",
       "      <td>34.0300</td>\n",
       "      <td>168192700.0</td>\n",
       "    </tr>\n",
       "    <tr>\n",
       "      <th>2012-05-22</th>\n",
       "      <td>569.55</td>\n",
       "      <td>573.88</td>\n",
       "      <td>552.58</td>\n",
       "      <td>556.97</td>\n",
       "      <td>24816800.0</td>\n",
       "      <td>0.0</td>\n",
       "      <td>1.0</td>\n",
       "      <td>73.195113</td>\n",
       "      <td>73.751579</td>\n",
       "      <td>71.014232</td>\n",
       "      <td>...</td>\n",
       "      <td>30.94</td>\n",
       "      <td>31.0000</td>\n",
       "      <td>101786600.0</td>\n",
       "      <td>0.0</td>\n",
       "      <td>1.0</td>\n",
       "      <td>32.61</td>\n",
       "      <td>33.59</td>\n",
       "      <td>30.94</td>\n",
       "      <td>31.0000</td>\n",
       "      <td>101786600.0</td>\n",
       "    </tr>\n",
       "    <tr>\n",
       "      <th>2012-05-23</th>\n",
       "      <td>557.50</td>\n",
       "      <td>572.80</td>\n",
       "      <td>553.23</td>\n",
       "      <td>570.56</td>\n",
       "      <td>20889200.0</td>\n",
       "      <td>0.0</td>\n",
       "      <td>1.0</td>\n",
       "      <td>71.646520</td>\n",
       "      <td>73.612783</td>\n",
       "      <td>71.097766</td>\n",
       "      <td>...</td>\n",
       "      <td>31.36</td>\n",
       "      <td>32.0000</td>\n",
       "      <td>73600000.0</td>\n",
       "      <td>0.0</td>\n",
       "      <td>1.0</td>\n",
       "      <td>31.37</td>\n",
       "      <td>32.50</td>\n",
       "      <td>31.36</td>\n",
       "      <td>32.0000</td>\n",
       "      <td>73600000.0</td>\n",
       "    </tr>\n",
       "    <tr>\n",
       "      <th>2012-05-24</th>\n",
       "      <td>575.87</td>\n",
       "      <td>576.50</td>\n",
       "      <td>561.23</td>\n",
       "      <td>565.32</td>\n",
       "      <td>17722500.0</td>\n",
       "      <td>0.0</td>\n",
       "      <td>1.0</td>\n",
       "      <td>74.007321</td>\n",
       "      <td>74.088285</td>\n",
       "      <td>72.125877</td>\n",
       "      <td>...</td>\n",
       "      <td>31.77</td>\n",
       "      <td>33.0300</td>\n",
       "      <td>50237200.0</td>\n",
       "      <td>0.0</td>\n",
       "      <td>1.0</td>\n",
       "      <td>32.95</td>\n",
       "      <td>33.21</td>\n",
       "      <td>31.77</td>\n",
       "      <td>33.0300</td>\n",
       "      <td>50237200.0</td>\n",
       "    </tr>\n",
       "  </tbody>\n",
       "</table>\n",
       "<p>5 rows × 60 columns</p>\n",
       "</div>"
      ],
      "text/plain": [
       "            WIKI/AAPL - Open  WIKI/AAPL - High  WIKI/AAPL - Low  \\\n",
       "Date                                                              \n",
       "2012-05-18            533.96            543.41           522.18   \n",
       "2012-05-21            534.50            561.54           534.05   \n",
       "2012-05-22            569.55            573.88           552.58   \n",
       "2012-05-23            557.50            572.80           553.23   \n",
       "2012-05-24            575.87            576.50           561.23   \n",
       "\n",
       "            WIKI/AAPL - Close  WIKI/AAPL - Volume  WIKI/AAPL - Ex-Dividend  \\\n",
       "Date                                                                         \n",
       "2012-05-18             530.38          26153300.0                      0.0   \n",
       "2012-05-21             561.28          22539500.0                      0.0   \n",
       "2012-05-22             556.97          24816800.0                      0.0   \n",
       "2012-05-23             570.56          20889200.0                      0.0   \n",
       "2012-05-24             565.32          17722500.0                      0.0   \n",
       "\n",
       "            WIKI/AAPL - Split Ratio  WIKI/AAPL - Adj. Open  \\\n",
       "Date                                                         \n",
       "2012-05-18                      1.0              68.621302   \n",
       "2012-05-21                      1.0              68.690700   \n",
       "2012-05-22                      1.0              73.195113   \n",
       "2012-05-23                      1.0              71.646520   \n",
       "2012-05-24                      1.0              74.007321   \n",
       "\n",
       "            WIKI/AAPL - Adj. High  WIKI/AAPL - Adj. Low  \\\n",
       "Date                                                      \n",
       "2012-05-18              69.835759             67.107408   \n",
       "2012-05-21              72.165717             68.632868   \n",
       "2012-05-22              73.751579             71.014232   \n",
       "2012-05-23              73.612783             71.097766   \n",
       "2012-05-24              74.088285             72.125877   \n",
       "\n",
       "                    ...            WIKI/FB - Low  WIKI/FB - Close  \\\n",
       "Date                ...                                             \n",
       "2012-05-18          ...                    38.00          38.2318   \n",
       "2012-05-21          ...                    33.00          34.0300   \n",
       "2012-05-22          ...                    30.94          31.0000   \n",
       "2012-05-23          ...                    31.36          32.0000   \n",
       "2012-05-24          ...                    31.77          33.0300   \n",
       "\n",
       "            WIKI/FB - Volume  WIKI/FB - Ex-Dividend  WIKI/FB - Split Ratio  \\\n",
       "Date                                                                         \n",
       "2012-05-18       573576400.0                    0.0                    1.0   \n",
       "2012-05-21       168192700.0                    0.0                    1.0   \n",
       "2012-05-22       101786600.0                    0.0                    1.0   \n",
       "2012-05-23        73600000.0                    0.0                    1.0   \n",
       "2012-05-24        50237200.0                    0.0                    1.0   \n",
       "\n",
       "            WIKI/FB - Adj. Open  WIKI/FB - Adj. High  WIKI/FB - Adj. Low  \\\n",
       "Date                                                                       \n",
       "2012-05-18                42.05                45.00               38.00   \n",
       "2012-05-21                36.53                36.66               33.00   \n",
       "2012-05-22                32.61                33.59               30.94   \n",
       "2012-05-23                31.37                32.50               31.36   \n",
       "2012-05-24                32.95                33.21               31.77   \n",
       "\n",
       "            WIKI/FB - Adj. Close  WIKI/FB - Adj. Volume  \n",
       "Date                                                     \n",
       "2012-05-18               38.2318            573576400.0  \n",
       "2012-05-21               34.0300            168192700.0  \n",
       "2012-05-22               31.0000            101786600.0  \n",
       "2012-05-23               32.0000             73600000.0  \n",
       "2012-05-24               33.0300             50237200.0  \n",
       "\n",
       "[5 rows x 60 columns]"
      ]
     },
     "execution_count": 11,
     "metadata": {},
     "output_type": "execute_result"
    }
   ],
   "source": [
    "data_clean.head()"
   ]
  },
  {
   "cell_type": "code",
   "execution_count": 66,
   "metadata": {},
   "outputs": [],
   "source": [
    "opendata = data_clean.loc[:,['WIKI/AAPL - Open','WIKI/GOOGL - Open','WIKI/IBM - Open','WIKI/MSFT - Open','WIKI/FB - Open']]"
   ]
  },
  {
   "cell_type": "code",
   "execution_count": 71,
   "metadata": {},
   "outputs": [
    {
     "data": {
      "text/html": [
       "<div>\n",
       "<style scoped>\n",
       "    .dataframe tbody tr th:only-of-type {\n",
       "        vertical-align: middle;\n",
       "    }\n",
       "\n",
       "    .dataframe tbody tr th {\n",
       "        vertical-align: top;\n",
       "    }\n",
       "\n",
       "    .dataframe thead th {\n",
       "        text-align: right;\n",
       "    }\n",
       "</style>\n",
       "<table border=\"1\" class=\"dataframe\">\n",
       "  <thead>\n",
       "    <tr style=\"text-align: right;\">\n",
       "      <th></th>\n",
       "      <th>WIKI/AAPL - Open</th>\n",
       "      <th>WIKI/GOOGL - Open</th>\n",
       "      <th>WIKI/IBM - Open</th>\n",
       "      <th>WIKI/MSFT - Open</th>\n",
       "      <th>WIKI/FB - Open</th>\n",
       "    </tr>\n",
       "    <tr>\n",
       "      <th>Date</th>\n",
       "      <th></th>\n",
       "      <th></th>\n",
       "      <th></th>\n",
       "      <th></th>\n",
       "      <th></th>\n",
       "    </tr>\n",
       "  </thead>\n",
       "  <tbody>\n",
       "    <tr>\n",
       "      <th>2012-05-18</th>\n",
       "      <td>533.96</td>\n",
       "      <td>625.10</td>\n",
       "      <td>198.78</td>\n",
       "      <td>29.79</td>\n",
       "      <td>42.05</td>\n",
       "    </tr>\n",
       "    <tr>\n",
       "      <th>2012-05-21</th>\n",
       "      <td>534.50</td>\n",
       "      <td>600.51</td>\n",
       "      <td>195.98</td>\n",
       "      <td>29.10</td>\n",
       "      <td>36.53</td>\n",
       "    </tr>\n",
       "    <tr>\n",
       "      <th>2012-05-22</th>\n",
       "      <td>569.55</td>\n",
       "      <td>613.44</td>\n",
       "      <td>198.04</td>\n",
       "      <td>29.69</td>\n",
       "      <td>32.61</td>\n",
       "    </tr>\n",
       "    <tr>\n",
       "      <th>2012-05-23</th>\n",
       "      <td>557.50</td>\n",
       "      <td>601.65</td>\n",
       "      <td>195.53</td>\n",
       "      <td>29.35</td>\n",
       "      <td>31.37</td>\n",
       "    </tr>\n",
       "    <tr>\n",
       "      <th>2012-05-24</th>\n",
       "      <td>575.87</td>\n",
       "      <td>609.16</td>\n",
       "      <td>195.99</td>\n",
       "      <td>29.16</td>\n",
       "      <td>32.95</td>\n",
       "    </tr>\n",
       "  </tbody>\n",
       "</table>\n",
       "</div>"
      ],
      "text/plain": [
       "            WIKI/AAPL - Open  WIKI/GOOGL - Open  WIKI/IBM - Open  \\\n",
       "Date                                                               \n",
       "2012-05-18            533.96             625.10           198.78   \n",
       "2012-05-21            534.50             600.51           195.98   \n",
       "2012-05-22            569.55             613.44           198.04   \n",
       "2012-05-23            557.50             601.65           195.53   \n",
       "2012-05-24            575.87             609.16           195.99   \n",
       "\n",
       "            WIKI/MSFT - Open  WIKI/FB - Open  \n",
       "Date                                          \n",
       "2012-05-18             29.79           42.05  \n",
       "2012-05-21             29.10           36.53  \n",
       "2012-05-22             29.69           32.61  \n",
       "2012-05-23             29.35           31.37  \n",
       "2012-05-24             29.16           32.95  "
      ]
     },
     "execution_count": 71,
     "metadata": {},
     "output_type": "execute_result"
    }
   ],
   "source": [
    "opendata.head()"
   ]
  },
  {
   "cell_type": "code",
   "execution_count": 72,
   "metadata": {},
   "outputs": [
    {
     "data": {
      "text/plain": [
       "<matplotlib.axes._subplots.AxesSubplot at 0x10cf71710>"
      ]
     },
     "execution_count": 72,
     "metadata": {},
     "output_type": "execute_result"
    },
    {
     "data": {
      "image/png": "[encoded data removed]",
      "text/plain": [
       "<Figure size 432x288 with 1 Axes>"
      ]
     },
     "metadata": {},
     "output_type": "display_data"
    }
   ],
   "source": [
    "opendata.plot()"
   ]
  },
  {
   "cell_type": "markdown",
   "metadata": {},
   "source": [
    "**Problem 3 - Stockplotter 2**"
   ]
  },
  {
   "cell_type": "code",
   "execution_count": 13,
   "metadata": {},
   "outputs": [],
   "source": [
    "def stocks_ticker(x):\n",
    "        stocks_ticker = plt.plot(quandl.get([\"WIKI/\"+ x],auth_token=\"EkcjDx5vgm8NreizBPC8\"))\n",
    "        plt.show()"
   ]
  },
  {
   "cell_type": "code",
   "execution_count": 14,
   "metadata": {},
   "outputs": [
    {
     "data": {
      "image/png": "[encoded data removed]",
      "text/plain": [
       "<Figure size 432x288 with 1 Axes>"
      ]
     },
     "metadata": {},
     "output_type": "display_data"
    }
   ],
   "source": [
    "stocks_ticker(\"AAPL\")"
   ]
  },
  {
   "cell_type": "code",
   "execution_count": 15,
   "metadata": {},
   "outputs": [
    {
     "data": {
      "image/png": "[encoded data removed]",
      "text/plain": [
       "<Figure size 432x288 with 1 Axes>"
      ]
     },
     "metadata": {},
     "output_type": "display_data"
    }
   ],
   "source": [
    "stocks_ticker(\"IBM\")"
   ]
  },
  {
   "cell_type": "markdown",
   "metadata": {},
   "source": [
    "**Problem 4 - Listpop**"
   ]
  },
  {
   "cell_type": "code",
   "execution_count": 16,
   "metadata": {},
   "outputs": [],
   "source": [
    "stocks_list = [\"AAPL\",\"GOOGL\",\"IBM\",\"MSFT\",\"FB\"]"
   ]
  },
  {
   "cell_type": "code",
   "execution_count": 17,
   "metadata": {},
   "outputs": [
    {
     "name": "stdout",
     "output_type": "stream",
     "text": [
      "['GOOGL', 'IBM', 'MSFT', 'FB']\n",
      "['IBM', 'MSFT', 'FB']\n",
      "['MSFT', 'FB']\n",
      "['FB']\n",
      "[]\n"
     ]
    }
   ],
   "source": [
    "while len(stocks_list) !=0:\n",
    "    stocks_list.pop(0)\n",
    "    print(stocks_list)"
   ]
  },
  {
   "cell_type": "markdown",
   "metadata": {},
   "source": [
    "**Problem 5 - Numlength 2**"
   ]
  },
  {
   "cell_type": "code",
   "execution_count": 18,
   "metadata": {},
   "outputs": [],
   "source": [
    "integer_list =[1,3,8,17,29,65,290,10,74,33,100,140,22,555,983,] "
   ]
  },
  {
   "cell_type": "code",
   "execution_count": 19,
   "metadata": {},
   "outputs": [],
   "source": [
    "one_digit = []\n",
    "two_digits = []\n",
    "three_digits =[]"
   ]
  },
  {
   "cell_type": "code",
   "execution_count": 20,
   "metadata": {},
   "outputs": [
    {
     "name": "stdout",
     "output_type": "stream",
     "text": [
      "[1, 3, 8]\n",
      "[17, 29, 65, 10, 74, 33, 22]\n",
      "[290, 100, 140, 555, 983]\n"
     ]
    }
   ],
   "source": [
    "for i in range(len(integer_list)): \n",
    "    num = str(integer_list[i]) \n",
    "    if len(num) ==1: \n",
    "        x = int(num) \n",
    "        one_digit.append(x) \n",
    "    elif len(num) == 2: \n",
    "        x = int(num) \n",
    "        two_digits.append(x)\n",
    "    else: \n",
    "        x = int(num) \n",
    "        three_digits.append(x) \n",
    "print(one_digit)\n",
    "print(two_digits) \n",
    "print(three_digits)"
   ]
  },
  {
   "cell_type": "markdown",
   "metadata": {},
   "source": [
    "**Problem 6 - Superify 2**"
   ]
  },
  {
   "cell_type": "code",
   "execution_count": 21,
   "metadata": {},
   "outputs": [],
   "source": [
    "list = [\"men\",\"women\",\"cool\",\"star\",\"model\"]"
   ]
  },
  {
   "cell_type": "code",
   "execution_count": 22,
   "metadata": {},
   "outputs": [
    {
     "name": "stdout",
     "output_type": "stream",
     "text": [
      "supermen\n",
      "super women\n",
      "supercool\n",
      "superstar\n",
      "super model\n"
     ]
    }
   ],
   "source": [
    "i =0\n",
    "while i<len(list):\n",
    "    if len(list[i])>4:\n",
    "        print(\"super \"+ list[i]) \n",
    "    else:\n",
    "        print(\"super\" + list[i])\n",
    "    i=i+1"
   ]
  },
  {
   "cell_type": "markdown",
   "metadata": {},
   "source": [
    "**Problem 7 - Descriptive Analytics 1**"
   ]
  },
  {
   "cell_type": "code",
   "execution_count": 23,
   "metadata": {},
   "outputs": [],
   "source": [
    "unemplr = quandl.get(\"FRED/SLUEM1524ZSARM\",auth_token=\"EkcjDx5vgm8NreizBPC8\")"
   ]
  },
  {
   "cell_type": "code",
   "execution_count": 24,
   "metadata": {},
   "outputs": [
    {
     "name": "stdout",
     "output_type": "stream",
     "text": [
      "<class 'pandas.core.frame.DataFrame'>\n",
      "DatetimeIndex: 27 entries, 1991-01-01 to 2017-01-01\n",
      "Data columns (total 1 columns):\n",
      "Value    27 non-null float64\n",
      "dtypes: float64(1)\n",
      "memory usage: 432.0 bytes\n"
     ]
    }
   ],
   "source": [
    "unemplr.info()"
   ]
  },
  {
   "cell_type": "code",
   "execution_count": 25,
   "metadata": {},
   "outputs": [
    {
     "data": {
      "text/html": [
       "<div>\n",
       "<style scoped>\n",
       "    .dataframe tbody tr th:only-of-type {\n",
       "        vertical-align: middle;\n",
       "    }\n",
       "\n",
       "    .dataframe tbody tr th {\n",
       "        vertical-align: top;\n",
       "    }\n",
       "\n",
       "    .dataframe thead th {\n",
       "        text-align: right;\n",
       "    }\n",
       "</style>\n",
       "<table border=\"1\" class=\"dataframe\">\n",
       "  <thead>\n",
       "    <tr style=\"text-align: right;\">\n",
       "      <th></th>\n",
       "      <th>Value</th>\n",
       "    </tr>\n",
       "    <tr>\n",
       "      <th>Date</th>\n",
       "      <th></th>\n",
       "    </tr>\n",
       "  </thead>\n",
       "  <tbody>\n",
       "    <tr>\n",
       "      <th>1991-01-01</th>\n",
       "      <td>4.507</td>\n",
       "    </tr>\n",
       "    <tr>\n",
       "      <th>1992-01-01</th>\n",
       "      <td>3.866</td>\n",
       "    </tr>\n",
       "    <tr>\n",
       "      <th>1993-01-01</th>\n",
       "      <td>11.425</td>\n",
       "    </tr>\n",
       "    <tr>\n",
       "      <th>1994-01-01</th>\n",
       "      <td>14.266</td>\n",
       "    </tr>\n",
       "    <tr>\n",
       "      <th>1995-01-01</th>\n",
       "      <td>14.512</td>\n",
       "    </tr>\n",
       "  </tbody>\n",
       "</table>\n",
       "</div>"
      ],
      "text/plain": [
       "             Value\n",
       "Date              \n",
       "1991-01-01   4.507\n",
       "1992-01-01   3.866\n",
       "1993-01-01  11.425\n",
       "1994-01-01  14.266\n",
       "1995-01-01  14.512"
      ]
     },
     "execution_count": 25,
     "metadata": {},
     "output_type": "execute_result"
    }
   ],
   "source": [
    "unemplr.head()"
   ]
  },
  {
   "cell_type": "code",
   "execution_count": 26,
   "metadata": {},
   "outputs": [
    {
     "data": {
      "text/plain": [
       "<matplotlib.axes._subplots.AxesSubplot at 0x1a11b8aeb8>"
      ]
     },
     "execution_count": 26,
     "metadata": {},
     "output_type": "execute_result"
    },
    {
     "data": {
      "image/png": "[encoded data removed]",
      "text/plain": [
       "<Figure size 432x288 with 1 Axes>"
      ]
     },
     "metadata": {},
     "output_type": "display_data"
    }
   ],
   "source": [
    "# the unemployment trend over years\n",
    "\n",
    "unemplr.plot(color = \"r\") "
   ]
  },
  {
   "cell_type": "code",
   "execution_count": 27,
   "metadata": {},
   "outputs": [],
   "source": [
    "# the unemployment relative change over years\n",
    "\n",
    "unemplr[\"Relative_change\"] = unemplr.Value.pct_change()"
   ]
  },
  {
   "cell_type": "code",
   "execution_count": 28,
   "metadata": {},
   "outputs": [
    {
     "data": {
      "text/html": [
       "<div>\n",
       "<style scoped>\n",
       "    .dataframe tbody tr th:only-of-type {\n",
       "        vertical-align: middle;\n",
       "    }\n",
       "\n",
       "    .dataframe tbody tr th {\n",
       "        vertical-align: top;\n",
       "    }\n",
       "\n",
       "    .dataframe thead th {\n",
       "        text-align: right;\n",
       "    }\n",
       "</style>\n",
       "<table border=\"1\" class=\"dataframe\">\n",
       "  <thead>\n",
       "    <tr style=\"text-align: right;\">\n",
       "      <th></th>\n",
       "      <th>Value</th>\n",
       "      <th>Relative_change</th>\n",
       "    </tr>\n",
       "    <tr>\n",
       "      <th>Date</th>\n",
       "      <th></th>\n",
       "      <th></th>\n",
       "    </tr>\n",
       "  </thead>\n",
       "  <tbody>\n",
       "    <tr>\n",
       "      <th>1991-01-01</th>\n",
       "      <td>4.507</td>\n",
       "      <td>NaN</td>\n",
       "    </tr>\n",
       "    <tr>\n",
       "      <th>1992-01-01</th>\n",
       "      <td>3.866</td>\n",
       "      <td>-0.142223</td>\n",
       "    </tr>\n",
       "    <tr>\n",
       "      <th>1993-01-01</th>\n",
       "      <td>11.425</td>\n",
       "      <td>1.955251</td>\n",
       "    </tr>\n",
       "    <tr>\n",
       "      <th>1994-01-01</th>\n",
       "      <td>14.266</td>\n",
       "      <td>0.248665</td>\n",
       "    </tr>\n",
       "    <tr>\n",
       "      <th>1995-01-01</th>\n",
       "      <td>14.512</td>\n",
       "      <td>0.017244</td>\n",
       "    </tr>\n",
       "  </tbody>\n",
       "</table>\n",
       "</div>"
      ],
      "text/plain": [
       "             Value  Relative_change\n",
       "Date                               \n",
       "1991-01-01   4.507              NaN\n",
       "1992-01-01   3.866        -0.142223\n",
       "1993-01-01  11.425         1.955251\n",
       "1994-01-01  14.266         0.248665\n",
       "1995-01-01  14.512         0.017244"
      ]
     },
     "execution_count": 28,
     "metadata": {},
     "output_type": "execute_result"
    }
   ],
   "source": [
    "unemplr.head()"
   ]
  },
  {
   "cell_type": "code",
   "execution_count": 29,
   "metadata": {},
   "outputs": [],
   "source": [
    "unemplr = unemplr.dropna()"
   ]
  },
  {
   "cell_type": "code",
   "execution_count": 30,
   "metadata": {},
   "outputs": [
    {
     "data": {
      "text/html": [
       "<div>\n",
       "<style scoped>\n",
       "    .dataframe tbody tr th:only-of-type {\n",
       "        vertical-align: middle;\n",
       "    }\n",
       "\n",
       "    .dataframe tbody tr th {\n",
       "        vertical-align: top;\n",
       "    }\n",
       "\n",
       "    .dataframe thead th {\n",
       "        text-align: right;\n",
       "    }\n",
       "</style>\n",
       "<table border=\"1\" class=\"dataframe\">\n",
       "  <thead>\n",
       "    <tr style=\"text-align: right;\">\n",
       "      <th></th>\n",
       "      <th>Value</th>\n",
       "      <th>Relative_change</th>\n",
       "    </tr>\n",
       "    <tr>\n",
       "      <th>Date</th>\n",
       "      <th></th>\n",
       "      <th></th>\n",
       "    </tr>\n",
       "  </thead>\n",
       "  <tbody>\n",
       "    <tr>\n",
       "      <th>1992-01-01</th>\n",
       "      <td>3.866000</td>\n",
       "      <td>-0.142223</td>\n",
       "    </tr>\n",
       "    <tr>\n",
       "      <th>1993-01-01</th>\n",
       "      <td>11.425000</td>\n",
       "      <td>1.955251</td>\n",
       "    </tr>\n",
       "    <tr>\n",
       "      <th>1994-01-01</th>\n",
       "      <td>14.266000</td>\n",
       "      <td>0.248665</td>\n",
       "    </tr>\n",
       "    <tr>\n",
       "      <th>1995-01-01</th>\n",
       "      <td>14.512000</td>\n",
       "      <td>0.017244</td>\n",
       "    </tr>\n",
       "    <tr>\n",
       "      <th>1996-01-01</th>\n",
       "      <td>20.115999</td>\n",
       "      <td>0.386163</td>\n",
       "    </tr>\n",
       "  </tbody>\n",
       "</table>\n",
       "</div>"
      ],
      "text/plain": [
       "                Value  Relative_change\n",
       "Date                                  \n",
       "1992-01-01   3.866000        -0.142223\n",
       "1993-01-01  11.425000         1.955251\n",
       "1994-01-01  14.266000         0.248665\n",
       "1995-01-01  14.512000         0.017244\n",
       "1996-01-01  20.115999         0.386163"
      ]
     },
     "execution_count": 30,
     "metadata": {},
     "output_type": "execute_result"
    }
   ],
   "source": [
    "unemplr.head()"
   ]
  },
  {
   "cell_type": "code",
   "execution_count": 31,
   "metadata": {},
   "outputs": [
    {
     "data": {
      "text/plain": [
       "<matplotlib.axes._subplots.AxesSubplot at 0x1a10e087b8>"
      ]
     },
     "execution_count": 31,
     "metadata": {},
     "output_type": "execute_result"
    },
    {
     "data": {
      "image/png": "[encoded data removed]",
      "text/plain": [
       "<Figure size 432x288 with 1 Axes>"
      ]
     },
     "metadata": {},
     "output_type": "display_data"
    }
   ],
   "source": [
    "unemplr.Relative_change.plot()"
   ]
  },
  {
   "cell_type": "code",
   "execution_count": 70,
   "metadata": {},
   "outputs": [
    {
     "data": {
      "text/html": [
       "<div>\n",
       "<style scoped>\n",
       "    .dataframe tbody tr th:only-of-type {\n",
       "        vertical-align: middle;\n",
       "    }\n",
       "\n",
       "    .dataframe tbody tr th {\n",
       "        vertical-align: top;\n",
       "    }\n",
       "\n",
       "    .dataframe thead th {\n",
       "        text-align: right;\n",
       "    }\n",
       "</style>\n",
       "<table border=\"1\" class=\"dataframe\">\n",
       "  <thead>\n",
       "    <tr style=\"text-align: right;\">\n",
       "      <th></th>\n",
       "      <th>Value</th>\n",
       "      <th>Relative_change</th>\n",
       "    </tr>\n",
       "    <tr>\n",
       "      <th>Date</th>\n",
       "      <th></th>\n",
       "      <th></th>\n",
       "    </tr>\n",
       "  </thead>\n",
       "  <tbody>\n",
       "    <tr>\n",
       "      <th>2001-01-01</th>\n",
       "      <td>21.724001</td>\n",
       "      <td>-0.050607</td>\n",
       "    </tr>\n",
       "  </tbody>\n",
       "</table>\n",
       "</div>"
      ],
      "text/plain": [
       "                Value  Relative_change\n",
       "Date                                  \n",
       "2001-01-01  21.724001        -0.050607"
      ]
     },
     "execution_count": 70,
     "metadata": {},
     "output_type": "execute_result"
    }
   ],
   "source": [
    "# the unemployment rate in 2001\n",
    "\n",
    "unemplr[\"2001\"]"
   ]
  },
  {
   "cell_type": "code",
   "execution_count": 33,
   "metadata": {},
   "outputs": [
    {
     "data": {
      "text/plain": [
       "Date\n",
       "2001-01-01    21.724001\n",
       "Name: Value, dtype: float64"
      ]
     },
     "execution_count": 33,
     "metadata": {},
     "output_type": "execute_result"
    }
   ],
   "source": [
    "rate_2001 = unemplr.loc[\"2001\",\"Value\"] \n",
    "rate_2001"
   ]
  },
  {
   "cell_type": "code",
   "execution_count": 34,
   "metadata": {},
   "outputs": [
    {
     "data": {
      "text/html": [
       "<div>\n",
       "<style scoped>\n",
       "    .dataframe tbody tr th:only-of-type {\n",
       "        vertical-align: middle;\n",
       "    }\n",
       "\n",
       "    .dataframe tbody tr th {\n",
       "        vertical-align: top;\n",
       "    }\n",
       "\n",
       "    .dataframe thead th {\n",
       "        text-align: right;\n",
       "    }\n",
       "</style>\n",
       "<table border=\"1\" class=\"dataframe\">\n",
       "  <thead>\n",
       "    <tr style=\"text-align: right;\">\n",
       "      <th></th>\n",
       "      <th>Value</th>\n",
       "      <th>Relative_change</th>\n",
       "    </tr>\n",
       "    <tr>\n",
       "      <th>Date</th>\n",
       "      <th></th>\n",
       "      <th></th>\n",
       "    </tr>\n",
       "  </thead>\n",
       "  <tbody>\n",
       "    <tr>\n",
       "      <th>2009-01-01</th>\n",
       "      <td>40.818001</td>\n",
       "      <td>0.188262</td>\n",
       "    </tr>\n",
       "  </tbody>\n",
       "</table>\n",
       "</div>"
      ],
      "text/plain": [
       "                Value  Relative_change\n",
       "Date                                  \n",
       "2009-01-01  40.818001         0.188262"
      ]
     },
     "execution_count": 34,
     "metadata": {},
     "output_type": "execute_result"
    }
   ],
   "source": [
    "# the highest rate of unemployment in Armenia \n",
    "\n",
    "unemplr.loc[unemplr['Value'] == unemplr.Value.max()]"
   ]
  },
  {
   "cell_type": "code",
   "execution_count": 35,
   "metadata": {},
   "outputs": [],
   "source": [
    "# mean, mode and median of unemployment rates\n"
   ]
  },
  {
   "cell_type": "code",
   "execution_count": 36,
   "metadata": {},
   "outputs": [
    {
     "name": "stdout",
     "output_type": "stream",
     "text": [
      "<class 'pandas.core.frame.DataFrame'>\n",
      "DatetimeIndex: 26 entries, 1992-01-01 to 2017-01-01\n",
      "Data columns (total 2 columns):\n",
      "Value              26 non-null float64\n",
      "Relative_change    26 non-null float64\n",
      "dtypes: float64(2)\n",
      "memory usage: 1.9 KB\n"
     ]
    }
   ],
   "source": [
    "unemplr.info()"
   ]
  },
  {
   "cell_type": "code",
   "execution_count": 37,
   "metadata": {},
   "outputs": [
    {
     "data": {
      "text/plain": [
       "25.728807733602306"
      ]
     },
     "execution_count": 37,
     "metadata": {},
     "output_type": "execute_result"
    }
   ],
   "source": [
    "unemplr.Value.mean()"
   ]
  },
  {
   "cell_type": "code",
   "execution_count": 38,
   "metadata": {},
   "outputs": [
    {
     "data": {
      "text/plain": [
       "0    20\n",
       "1    21\n",
       "dtype: int64"
      ]
     },
     "execution_count": 38,
     "metadata": {},
     "output_type": "execute_result"
    }
   ],
   "source": [
    "unemplr.Value.astype(\"int\").mode()"
   ]
  },
  {
   "cell_type": "code",
   "execution_count": 39,
   "metadata": {},
   "outputs": [
    {
     "data": {
      "text/plain": [
       "23.09799957275"
      ]
     },
     "execution_count": 39,
     "metadata": {},
     "output_type": "execute_result"
    }
   ],
   "source": [
    "unemplr.Value.median()"
   ]
  },
  {
   "cell_type": "markdown",
   "metadata": {},
   "source": [
    "**Problem 8 - Descriptive Analytics 2**"
   ]
  },
  {
   "cell_type": "code",
   "execution_count": 40,
   "metadata": {},
   "outputs": [],
   "source": [
    "prop_price = quandl.get(\"ZILLOW/C25499_MLPFAH\",auth_token=\"EkcjDx5vgm8NreizBPC8\")"
   ]
  },
  {
   "cell_type": "code",
   "execution_count": 41,
   "metadata": {},
   "outputs": [
    {
     "data": {
      "text/html": [
       "<div>\n",
       "<style scoped>\n",
       "    .dataframe tbody tr th:only-of-type {\n",
       "        vertical-align: middle;\n",
       "    }\n",
       "\n",
       "    .dataframe tbody tr th {\n",
       "        vertical-align: top;\n",
       "    }\n",
       "\n",
       "    .dataframe thead th {\n",
       "        text-align: right;\n",
       "    }\n",
       "</style>\n",
       "<table border=\"1\" class=\"dataframe\">\n",
       "  <thead>\n",
       "    <tr style=\"text-align: right;\">\n",
       "      <th></th>\n",
       "      <th>Value</th>\n",
       "    </tr>\n",
       "    <tr>\n",
       "      <th>Date</th>\n",
       "      <th></th>\n",
       "    </tr>\n",
       "  </thead>\n",
       "  <tbody>\n",
       "    <tr>\n",
       "      <th>2013-04-30</th>\n",
       "      <td>178.571429</td>\n",
       "    </tr>\n",
       "    <tr>\n",
       "      <th>2013-05-31</th>\n",
       "      <td>178.571429</td>\n",
       "    </tr>\n",
       "    <tr>\n",
       "      <th>2013-06-30</th>\n",
       "      <td>185.380865</td>\n",
       "    </tr>\n",
       "    <tr>\n",
       "      <th>2013-07-31</th>\n",
       "      <td>176.747442</td>\n",
       "    </tr>\n",
       "    <tr>\n",
       "      <th>2013-08-31</th>\n",
       "      <td>166.666667</td>\n",
       "    </tr>\n",
       "  </tbody>\n",
       "</table>\n",
       "</div>"
      ],
      "text/plain": [
       "                 Value\n",
       "Date                  \n",
       "2013-04-30  178.571429\n",
       "2013-05-31  178.571429\n",
       "2013-06-30  185.380865\n",
       "2013-07-31  176.747442\n",
       "2013-08-31  166.666667"
      ]
     },
     "execution_count": 41,
     "metadata": {},
     "output_type": "execute_result"
    }
   ],
   "source": [
    "prop_price.head()"
   ]
  },
  {
   "cell_type": "code",
   "execution_count": 42,
   "metadata": {},
   "outputs": [
    {
     "data": {
      "text/plain": [
       "pandas.core.frame.DataFrame"
      ]
     },
     "execution_count": 42,
     "metadata": {},
     "output_type": "execute_result"
    }
   ],
   "source": [
    "type(prop_price)"
   ]
  },
  {
   "cell_type": "code",
   "execution_count": 43,
   "metadata": {},
   "outputs": [
    {
     "data": {
      "text/plain": [
       "Value    152.957085\n",
       "dtype: float64"
      ]
     },
     "execution_count": 43,
     "metadata": {},
     "output_type": "execute_result"
    }
   ],
   "source": [
    "prop_price.median()"
   ]
  },
  {
   "cell_type": "code",
   "execution_count": 44,
   "metadata": {},
   "outputs": [],
   "source": [
    "# 8.1"
   ]
  },
  {
   "cell_type": "code",
   "execution_count": 45,
   "metadata": {},
   "outputs": [
    {
     "data": {
      "text/plain": [
       "13"
      ]
     },
     "execution_count": 45,
     "metadata": {},
     "output_type": "execute_result"
    }
   ],
   "source": [
    "condition_1 = prop_price.Value>160 \n",
    "condition_2 = prop_price.Value<170\n",
    "\n",
    "prop_price.Value[condition_1 & condition_2].count()"
   ]
  },
  {
   "cell_type": "code",
   "execution_count": 46,
   "metadata": {},
   "outputs": [],
   "source": [
    "# 8.2"
   ]
  },
  {
   "cell_type": "code",
   "execution_count": 47,
   "metadata": {},
   "outputs": [
    {
     "data": {
      "image/png": "[encoded data removed]",
      "text/plain": [
       "<Figure size 432x288 with 1 Axes>"
      ]
     },
     "metadata": {},
     "output_type": "display_data"
    }
   ],
   "source": [
    "prop_price.hist(bins=15,color='g') \n",
    "plt.title('Property Price in Armenia')\n",
    "plt.xlabel('Median Prices')\n",
    "plt.ylabel(\"Date\")\n",
    "plt.show()"
   ]
  },
  {
   "cell_type": "code",
   "execution_count": 48,
   "metadata": {},
   "outputs": [],
   "source": [
    "# 8.3"
   ]
  },
  {
   "cell_type": "code",
   "execution_count": 49,
   "metadata": {},
   "outputs": [],
   "source": [
    "def price_classifier(x): \n",
    "    if x >=170:\n",
    "        output =\"High\"\n",
    "    elif x>160:\n",
    "        output =\"Medium\"\n",
    "    else:\n",
    "        output =\"Low\"\n",
    "    return output"
   ]
  },
  {
   "cell_type": "code",
   "execution_count": 50,
   "metadata": {},
   "outputs": [
    {
     "data": {
      "text/plain": [
       "Date\n",
       "2013-04-30      High\n",
       "2013-05-31      High\n",
       "2013-06-30      High\n",
       "2013-07-31      High\n",
       "2013-08-31    Medium\n",
       "2013-09-30    Medium\n",
       "2013-10-31    Medium\n",
       "2013-11-30    Medium\n",
       "2013-12-31    Medium\n",
       "2014-01-31    Medium\n",
       "2014-02-28    Medium\n",
       "2014-03-31      High\n",
       "2014-04-30      High\n",
       "2014-05-31    Medium\n",
       "2014-06-30       Low\n",
       "2014-07-31       Low\n",
       "2014-08-31       Low\n",
       "2014-09-30       Low\n",
       "2014-10-31       Low\n",
       "2014-11-30       Low\n",
       "2014-12-31       Low\n",
       "2015-01-31       Low\n",
       "2015-02-28       Low\n",
       "2015-03-31       Low\n",
       "2015-04-30       Low\n",
       "2015-05-31       Low\n",
       "2015-06-30       Low\n",
       "2015-07-31       Low\n",
       "2015-08-31       Low\n",
       "2015-09-30       Low\n",
       "2015-10-31    Medium\n",
       "2015-11-30    Medium\n",
       "2015-12-31       Low\n",
       "2016-01-31       Low\n",
       "2016-02-29       Low\n",
       "2016-03-31       Low\n",
       "2016-04-30       Low\n",
       "2016-05-31       Low\n",
       "2016-06-30       Low\n",
       "2016-07-31       Low\n",
       "2016-08-31       Low\n",
       "2016-09-30    Medium\n",
       "2016-10-31      High\n",
       "2016-11-30    Medium\n",
       "2016-12-31    Medium\n",
       "2017-01-31       Low\n",
       "2017-02-28       Low\n",
       "2017-03-31       Low\n",
       "2017-04-30       Low\n",
       "2017-05-31       Low\n",
       "2017-06-30       Low\n",
       "2017-07-31       Low\n",
       "2017-08-31       Low\n",
       "2017-09-30       Low\n",
       "2017-10-31       Low\n",
       "2017-11-30       Low\n",
       "2017-12-31       Low\n",
       "2018-01-31       Low\n",
       "2018-02-28       Low\n",
       "2018-03-31       Low\n",
       "Name: Value, dtype: object"
      ]
     },
     "execution_count": 50,
     "metadata": {},
     "output_type": "execute_result"
    }
   ],
   "source": [
    "prop_price.Value.apply(price_classifier)"
   ]
  },
  {
   "cell_type": "code",
   "execution_count": 51,
   "metadata": {},
   "outputs": [],
   "source": [
    "# 8.4"
   ]
  },
  {
   "cell_type": "code",
   "execution_count": 52,
   "metadata": {},
   "outputs": [],
   "source": [
    "prop_price[\"Price_classifications\"] = prop_price.Value.apply(price_classifier) "
   ]
  },
  {
   "cell_type": "code",
   "execution_count": 53,
   "metadata": {},
   "outputs": [
    {
     "data": {
      "text/html": [
       "<div>\n",
       "<style scoped>\n",
       "    .dataframe tbody tr th:only-of-type {\n",
       "        vertical-align: middle;\n",
       "    }\n",
       "\n",
       "    .dataframe tbody tr th {\n",
       "        vertical-align: top;\n",
       "    }\n",
       "\n",
       "    .dataframe thead th {\n",
       "        text-align: right;\n",
       "    }\n",
       "</style>\n",
       "<table border=\"1\" class=\"dataframe\">\n",
       "  <thead>\n",
       "    <tr style=\"text-align: right;\">\n",
       "      <th></th>\n",
       "      <th>Value</th>\n",
       "      <th>Price_classifications</th>\n",
       "    </tr>\n",
       "    <tr>\n",
       "      <th>Date</th>\n",
       "      <th></th>\n",
       "      <th></th>\n",
       "    </tr>\n",
       "  </thead>\n",
       "  <tbody>\n",
       "    <tr>\n",
       "      <th>2013-04-30</th>\n",
       "      <td>178.571429</td>\n",
       "      <td>High</td>\n",
       "    </tr>\n",
       "    <tr>\n",
       "      <th>2013-05-31</th>\n",
       "      <td>178.571429</td>\n",
       "      <td>High</td>\n",
       "    </tr>\n",
       "    <tr>\n",
       "      <th>2013-06-30</th>\n",
       "      <td>185.380865</td>\n",
       "      <td>High</td>\n",
       "    </tr>\n",
       "    <tr>\n",
       "      <th>2013-07-31</th>\n",
       "      <td>176.747442</td>\n",
       "      <td>High</td>\n",
       "    </tr>\n",
       "    <tr>\n",
       "      <th>2013-08-31</th>\n",
       "      <td>166.666667</td>\n",
       "      <td>Medium</td>\n",
       "    </tr>\n",
       "  </tbody>\n",
       "</table>\n",
       "</div>"
      ],
      "text/plain": [
       "                 Value Price_classifications\n",
       "Date                                        \n",
       "2013-04-30  178.571429                  High\n",
       "2013-05-31  178.571429                  High\n",
       "2013-06-30  185.380865                  High\n",
       "2013-07-31  176.747442                  High\n",
       "2013-08-31  166.666667                Medium"
      ]
     },
     "execution_count": 53,
     "metadata": {},
     "output_type": "execute_result"
    }
   ],
   "source": [
    "prop_price.head()"
   ]
  },
  {
   "cell_type": "code",
   "execution_count": 54,
   "metadata": {},
   "outputs": [],
   "source": [
    "# 8.5"
   ]
  },
  {
   "cell_type": "code",
   "execution_count": 55,
   "metadata": {},
   "outputs": [],
   "source": [
    "prop_pivot = pd.pivot_table(data = prop_price,index=[\"Price_classifications\"],values='Value',aggfunc = np.std)"
   ]
  },
  {
   "cell_type": "code",
   "execution_count": 56,
   "metadata": {},
   "outputs": [
    {
     "data": {
      "text/html": [
       "<div>\n",
       "<style scoped>\n",
       "    .dataframe tbody tr th:only-of-type {\n",
       "        vertical-align: middle;\n",
       "    }\n",
       "\n",
       "    .dataframe tbody tr th {\n",
       "        vertical-align: top;\n",
       "    }\n",
       "\n",
       "    .dataframe thead th {\n",
       "        text-align: right;\n",
       "    }\n",
       "</style>\n",
       "<table border=\"1\" class=\"dataframe\">\n",
       "  <thead>\n",
       "    <tr style=\"text-align: right;\">\n",
       "      <th></th>\n",
       "      <th>Value</th>\n",
       "    </tr>\n",
       "    <tr>\n",
       "      <th>Price_classifications</th>\n",
       "      <th></th>\n",
       "    </tr>\n",
       "  </thead>\n",
       "  <tbody>\n",
       "    <tr>\n",
       "      <th>High</th>\n",
       "      <td>4.960363</td>\n",
       "    </tr>\n",
       "    <tr>\n",
       "      <th>Low</th>\n",
       "      <td>4.289230</td>\n",
       "    </tr>\n",
       "    <tr>\n",
       "      <th>Medium</th>\n",
       "      <td>2.284924</td>\n",
       "    </tr>\n",
       "  </tbody>\n",
       "</table>\n",
       "</div>"
      ],
      "text/plain": [
       "                          Value\n",
       "Price_classifications          \n",
       "High                   4.960363\n",
       "Low                    4.289230\n",
       "Medium                 2.284924"
      ]
     },
     "execution_count": 56,
     "metadata": {},
     "output_type": "execute_result"
    }
   ],
   "source": [
    "prop_pivot"
   ]
  }
 ],
 "metadata": {
  "kernelspec": {
   "display_name": "Python 3",
   "language": "python",
   "name": "python3"
  },
  "language_info": {
   "codemirror_mode": {
    "name": "ipython",
    "version": 3
   },
   "file_extension": ".py",
   "mimetype": "text/x-python",
   "name": "python",
   "nbconvert_exporter": "python",
   "pygments_lexer": "ipython3",
   "version": "3.6.5"
  }
 },
 "nbformat": 4,
 "nbformat_minor": 2
}
